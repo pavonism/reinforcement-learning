{
 "cells": [
  {
   "cell_type": "code",
   "execution_count": 1,
   "metadata": {},
   "outputs": [
    {
     "name": "stdout",
     "output_type": "stream",
     "text": [
      "Observation shape: (210, 160, 3)\n",
      "Number of actions: 9\n",
      "Total reward: 270.0\n"
     ]
    }
   ],
   "source": [
    "import gymnasium as gym\n",
    "import ale_py\n",
    "from pandas import Timestamp\n",
    "\n",
    "from src.policies.random_policy import RandomPolicy\n",
    "from src.simulator import Simulator\n",
    "\n",
    "output_path = f'../outputs/random_policy/{int(Timestamp.now().timestamp())}'\n",
    "\n",
    "gym.register_envs(ale_py)\n",
    "\n",
    "env = gym.make('ALE/MsPacman-v5', render_mode=\"rgb_array\")\n",
    "env = gym.wrappers.RecordVideo(env, output_path, episode_trigger=lambda _: True)\n",
    "\n",
    "obs_shape = env.observation_space.shape\n",
    "n_actions = env.action_space.n\n",
    "print(f'Observation shape: {obs_shape}')\n",
    "print(f'Number of actions: {n_actions}')\n",
    "\n",
    "policy = RandomPolicy(n_actions)\n",
    "simulator = Simulator(env=env, policy=policy, output_path=output_path)\n",
    "\n",
    "total_reward = simulator.run(max_steps=1000)\n",
    "\n",
    "print(f'Total reward: {total_reward}')"
   ]
  }
 ],
 "metadata": {
  "kernelspec": {
   "display_name": "venv",
   "language": "python",
   "name": "python3"
  },
  "language_info": {
   "codemirror_mode": {
    "name": "ipython",
    "version": 3
   },
   "file_extension": ".py",
   "mimetype": "text/x-python",
   "name": "python",
   "nbconvert_exporter": "python",
   "pygments_lexer": "ipython3",
   "version": "3.10.14"
  }
 },
 "nbformat": 4,
 "nbformat_minor": 2
}
