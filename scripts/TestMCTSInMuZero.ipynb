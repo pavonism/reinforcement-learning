{
 "cells": [
  {
   "cell_type": "code",
   "execution_count": 290,
   "metadata": {},
   "outputs": [
    {
     "name": "stderr",
     "output_type": "stream",
     "text": [
      "p:\\MINI8\\RL\\reinforcement-learning\\venv\\lib\\site-packages\\gymnasium\\wrappers\\rendering.py:283: UserWarning: \u001b[33mWARN: Overwriting existing videos at p:\\MINI8\\RL\\reinforcement-learning\\scripts\\test folder (try specifying a different `video_folder` for the `RecordVideo` wrapper if this is not desired)\u001b[0m\n",
      "  logger.warn(\n"
     ]
    }
   ],
   "source": [
    "from muzero.networks import MuZeroNetwork\n",
    "from muzero.context import MuZeroContext\n",
    "import gymnasium\n",
    "import ale_py\n",
    "from pandas import Timestamp\n",
    "import numpy as np\n",
    "import matplotlib.pyplot as plt\n",
    "from muzero.game import Node\n",
    "from muzero.tree_search import expand_node, run_mcts\n",
    "\n",
    "output_path = f'../outputs/DQN/{int(Timestamp.now().timestamp())}'\n",
    "\n",
    "gymnasium.register_envs(ale_py)\n",
    "\n",
    "env = gymnasium.wrappers.AtariPreprocessing(\n",
    "        gymnasium.wrappers.RecordVideo(\n",
    "            gymnasium.make(\"ALE/MsPacman-v5\", render_mode=\"rgb_array\", frameskip=4),\n",
    "            f\"test\",\n",
    "            lambda x: True,\n",
    "        ),\n",
    "        screen_size=96,\n",
    "        grayscale_obs=False,\n",
    "        frame_skip=1,\n",
    "    )\n",
    "network : MuZeroNetwork = MuZeroNetwork.from_checkpoint('../checkpoints/muzero_fixed_priorities').to('cpu')"
   ]
  },
  {
   "cell_type": "code",
   "execution_count": 593,
   "metadata": {},
   "outputs": [],
   "source": [
    "context = MuZeroContext(\n",
    "    n_actions=9,\n",
    "    max_moves=27000,  # Half an hour at action repeat 4.\n",
    "    discount=0.997,\n",
    "    dirichlet_alpha=0.25,\n",
    "    num_simulations=10,\n",
    "    batch_size=256,\n",
    "    td_steps=5,\n",
    "    num_actors=1,\n",
    "    lr_init=0.05,\n",
    "    lr_decay_steps=350e3,\n",
    "    value_loss_weight=0.25,\n",
    "    env_factory=lambda _: env,\n",
    "    checkpoint_path=\"\"\n",
    ")"
   ]
  },
  {
   "cell_type": "code",
   "execution_count": 292,
   "metadata": {},
   "outputs": [],
   "source": [
    "def select_action_with_temperature(temperature: float, node):\n",
    "    visit_counts = np.array(\n",
    "        [child.visit_count for child in node.children.values()], dtype=\"int32\"\n",
    "    )\n",
    "    actions = [action for action in node.children.keys()]\n",
    "\n",
    "    if temperature == 0:\n",
    "        action = actions[np.argmax(visit_counts)]\n",
    "    elif temperature == float(\"inf\"):\n",
    "        action = np.random.choice(actions)\n",
    "    else:\n",
    "        visit_count_distribution = visit_counts ** (1 / temperature)\n",
    "        visit_count_distribution = visit_count_distribution / sum(\n",
    "            visit_count_distribution\n",
    "        )\n",
    "        action = np.random.choice(actions, p=visit_count_distribution)\n",
    "\n",
    "    return action"
   ]
  },
  {
   "cell_type": "code",
   "execution_count": 429,
   "metadata": {},
   "outputs": [],
   "source": [
    "game = context.new_game(0)"
   ]
  },
  {
   "cell_type": "code",
   "execution_count": 596,
   "metadata": {},
   "outputs": [
    {
     "data": {
      "image/png": "[encoded data removed]",
      "text/plain": [
       "<Figure size 640x480 with 1 Axes>"
      ]
     },
     "metadata": {},
     "output_type": "display_data"
    },
    {
     "data": {
      "text/plain": [
       "[(0, 0, 0, 0),\n",
       " (1, 0, 0, 0),\n",
       " (2, 0, 0, 0),\n",
       " (3, 0, 0, 0),\n",
       " (4, 7, 22.62664742051458, 0.0015245676040649414),\n",
       " (5, 0, 0, 0),\n",
       " (6, 0, 0, 0),\n",
       " (7, 3, 25.0088631504844, 0.0018824338912963867),\n",
       " (8, 0, 0, 0)]"
      ]
     },
     "execution_count": 596,
     "metadata": {},
     "output_type": "execute_result"
    }
   ],
   "source": [
    "from muzero.tree_search import add_exploration_noise\n",
    "\n",
    "\n",
    "state = game.get_state(len(game.states), 32, 32)\n",
    "hidden_state, policy_logits, initial_reward, value_logits = network.initial_inference(state)\n",
    "\n",
    "root = Node(0)\n",
    "expand_node(root, hidden_state, policy_logits, 0)\n",
    "\n",
    "run_mcts(context, root, [], network)\n",
    "add_exploration_noise(context.root_dirichlet_alpha, context.root_exploration_fraction, root)\n",
    "action = select_action_with_temperature(0.0, root)\n",
    "game.apply_action(action)\n",
    "\n",
    "# Render the environment and get the image\n",
    "image = env.render()\n",
    "\n",
    "# Display the image\n",
    "plt.imshow(image)\n",
    "plt.axis('off')  # Hide the axis\n",
    "plt.show()\n",
    "\n",
    "[(child_key, child.visit_count, child.value(), child.reward) for child_key, child in root.children.items()]"
   ]
  },
  {
   "cell_type": "code",
   "execution_count": 542,
   "metadata": {},
   "outputs": [
    {
     "name": "stdout",
     "output_type": "stream",
     "text": [
      "Node with highest reward: <muzero.game.Node object at 0x00000245CBABD7B0>, Reward: 0.004628777503967285\n"
     ]
    }
   ],
   "source": [
    "# Function to search the whole tree for the node with the highest reward\n",
    "def find_highest_value_node(node):\n",
    "    max_reward = 0\n",
    "    best_node = node\n",
    "\n",
    "    def dfs(current_node):\n",
    "        nonlocal max_reward, best_node\n",
    "        if current_node.value() > max_reward:\n",
    "            max_reward = current_node.reward\n",
    "            best_node = current_node\n",
    "        for child in current_node.children.values():\n",
    "            dfs(child)\n",
    "\n",
    "    dfs(node)\n",
    "    return best_node\n",
    "\n",
    "# Find the node with the highest reward in the whole tree\n",
    "best_node = find_highest_value_node(root)\n",
    "print(f\"Node with highest reward: {best_node}, Reward: {best_node.reward}\")"
   ]
  },
  {
   "cell_type": "code",
   "execution_count": 289,
   "metadata": {},
   "outputs": [
    {
     "name": "stderr",
     "output_type": "stream",
     "text": [
      "376it [00:46,  8.13it/s]\n"
     ]
    },
    {
     "data": {
      "text/plain": [
       "(array([[[124,  60,  60],\n",
       "         [124,  60,  60],\n",
       "         [112,  56,  62],\n",
       "         ...,\n",
       "         [112,  56,  62],\n",
       "         [124,  60,  60],\n",
       "         [124,  60,  60]],\n",
       " \n",
       "        [[228, 111, 111],\n",
       "         [228, 111, 111],\n",
       "         [ 91,  61, 126],\n",
       "         ...,\n",
       "         [ 91,  61, 126],\n",
       "         [228, 111, 111],\n",
       "         [228, 111, 111]],\n",
       " \n",
       "        [[228, 111, 111],\n",
       "         [228, 111, 111],\n",
       "         [ 91,  61, 126],\n",
       "         ...,\n",
       "         [ 91,  61, 126],\n",
       "         [228, 111, 111],\n",
       "         [228, 111, 111]],\n",
       " \n",
       "        ...,\n",
       " \n",
       "        [[  0,   0,   0],\n",
       "         [  0,   0,   0],\n",
       "         [  0,   0,   0],\n",
       "         ...,\n",
       "         [  0,   0,   0],\n",
       "         [  0,   0,   0],\n",
       "         [  0,   0,   0]],\n",
       " \n",
       "        [[  0,   0,   0],\n",
       "         [  0,   0,   0],\n",
       "         [  0,   0,   0],\n",
       "         ...,\n",
       "         [  0,   0,   0],\n",
       "         [  0,   0,   0],\n",
       "         [  0,   0,   0]],\n",
       " \n",
       "        [[  0,   0,   0],\n",
       "         [  0,   0,   0],\n",
       "         [  0,   0,   0],\n",
       "         ...,\n",
       "         [  0,   0,   0],\n",
       "         [  0,   0,   0],\n",
       "         [  0,   0,   0]]], dtype=uint8),\n",
       " {'lives': 3, 'episode_frame_number': 60, 'frame_number': 4915})"
      ]
     },
     "execution_count": 289,
     "metadata": {},
     "output_type": "execute_result"
    }
   ],
   "source": [
    "from tqdm import tqdm\n",
    "\n",
    "game = context.new_game(0)\n",
    "\n",
    "with tqdm() as p_bar:\n",
    "    while not game.done:\n",
    "        state = game.get_state(len(game.states), 32, 32)\n",
    "        hidden_state, policy_logits, initial_reward, value_logits = network.initial_inference(state)\n",
    "\n",
    "        root = Node(0)\n",
    "        expand_node(root, hidden_state, policy_logits, initial_reward)\n",
    "\n",
    "        run_mcts(context, root, [], network)\n",
    "        action = select_action_with_temperature(1.0, root)\n",
    "        game.apply_action(action)\n",
    "        p_bar.update(1)\n",
    "\n",
    "game.env.reset()"
   ]
  }
 ],
 "metadata": {
  "kernelspec": {
   "display_name": "venv",
   "language": "python",
   "name": "python3"
  },
  "language_info": {
   "codemirror_mode": {
    "name": "ipython",
    "version": 3
   },
   "file_extension": ".py",
   "mimetype": "text/x-python",
   "name": "python",
   "nbconvert_exporter": "python",
   "pygments_lexer": "ipython3",
   "version": "3.10.14"
  }
 },
 "nbformat": 4,
 "nbformat_minor": 2
}
