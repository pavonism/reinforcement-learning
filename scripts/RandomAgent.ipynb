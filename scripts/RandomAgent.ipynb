{
 "cells": [
  {
   "cell_type": "code",
   "execution_count": null,
   "metadata": {},
   "outputs": [
    {
     "name": "stderr",
     "output_type": "stream",
     "text": [
      "100%|██████████| 1000/1000 [05:43<00:00,  2.91it/s]"
     ]
    },
    {
     "name": "stdout",
     "output_type": "stream",
     "text": [
      "Mean reward: 259.86\n"
     ]
    },
    {
     "name": "stderr",
     "output_type": "stream",
     "text": [
      "\n"
     ]
    }
   ],
   "source": [
    "import gymnasium as gym\n",
    "import ale_py\n",
    "from tqdm import tqdm\n",
    "import pandas as pd\n",
    "from math import sqrt\n",
    "from matplotlib import pyplot as plt\n",
    "\n",
    "gym.register_envs(ale_py)\n",
    "\n",
    "env = gym.make('ALE/MsPacman-v5', render_mode=\"rgb_array\")\n",
    "results = []\n",
    "\n",
    "for i in tqdm(range(1000)):\n",
    "    env.reset()\n",
    "    done = False\n",
    "    episode_reward = 0\n",
    "    while not done:\n",
    "        action = env.action_space.sample()\n",
    "        _, reward, done, *_ = env.step(action)\n",
    "        episode_reward += reward\n",
    "\n",
    "    results.append(episode_reward)\n",
    "\n",
    "print(f\"Mean reward: {sum(results) / len(results)}\")"
   ]
  },
  {
   "cell_type": "code",
   "execution_count": 16,
   "metadata": {},
   "outputs": [],
   "source": [
    "df = pd.DataFrame(results, columns=[\"reward\"])\n",
    "df.to_csv(\"data/random_agent_results.csv\", index=False)"
   ]
  },
  {
   "cell_type": "code",
   "execution_count": null,
   "metadata": {},
   "outputs": [],
   "source": [
    "df = pd.read_csv(\"data/random_agent_results.csv\")"
   ]
  },
  {
   "cell_type": "code",
   "execution_count": 13,
   "metadata": {},
   "outputs": [
    {
     "data": {
      "text/plain": [
       "(array([  9.,  22., 103., 210., 250., 144., 122.,  57.,  23.,  15.,  11.,\n",
       "          5.,   3.,   1.,   4.,   7.,   3.,   1.,   1.,   0.,   1.,   1.,\n",
       "          0.,   1.,   0.,   2.,   1.,   0.,   0.,   1.,   2.]),\n",
       " array([  60.        ,   98.06451613,  136.12903226,  174.19354839,\n",
       "         212.25806452,  250.32258065,  288.38709677,  326.4516129 ,\n",
       "         364.51612903,  402.58064516,  440.64516129,  478.70967742,\n",
       "         516.77419355,  554.83870968,  592.90322581,  630.96774194,\n",
       "         669.03225806,  707.09677419,  745.16129032,  783.22580645,\n",
       "         821.29032258,  859.35483871,  897.41935484,  935.48387097,\n",
       "         973.5483871 , 1011.61290323, 1049.67741935, 1087.74193548,\n",
       "        1125.80645161, 1163.87096774, 1201.93548387, 1240.        ]),\n",
       " <BarContainer object of 31 artists>)"
      ]
     },
     "execution_count": 13,
     "metadata": {},
     "output_type": "execute_result"
    },
    {
     "data": {
      "image/png": "[encoded data removed]",
      "text/plain": [
       "<Figure size 640x480 with 1 Axes>"
      ]
     },
     "metadata": {},
     "output_type": "display_data"
    }
   ],
   "source": [
    "plt.hist(results, bins=int(sqrt(len(results))), edgecolor='black')"
   ]
  }
 ],
 "metadata": {
  "kernelspec": {
   "display_name": "venv",
   "language": "python",
   "name": "python3"
  },
  "language_info": {
   "codemirror_mode": {
    "name": "ipython",
    "version": 3
   },
   "file_extension": ".py",
   "mimetype": "text/x-python",
   "name": "python",
   "nbconvert_exporter": "python",
   "pygments_lexer": "ipython3",
   "version": "3.9.13"
  }
 },
 "nbformat": 4,
 "nbformat_minor": 2
}
